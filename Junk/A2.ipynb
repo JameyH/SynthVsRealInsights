{
 "cells": [
  {
   "cell_type": "code",
   "execution_count": 1,
   "metadata": {},
   "outputs": [],
   "source": [
    "import numpy as np\n",
    "import mlrose as mlrose\n",
    "from sklearn.model_selection import train_test_split, ShuffleSplit, GridSearchCV, learning_curve\n",
    "from sklearn.preprocessing import MinMaxScaler, OneHotEncoder\n",
    "from sklearn.metrics import accuracy_score, recall_score, precision_score, f1_score, confusion_matrix, mean_squared_error\n",
    "import itertools\n",
    "import pandas as pd\n",
    "\n",
    "from timeit import default_timer as timer\n",
    "\n",
    "import matplotlib.pyplot as plt\n",
    "import seaborn as sns\n",
    "import random"
   ]
  },
  {
   "cell_type": "code",
   "execution_count": 4,
   "metadata": {},
   "outputs": [],
   "source": [
    "# Define alternative N-Queens fitness function for maximization problem\n",
    "def queens_max(state):\n",
    "    \n",
    "        # Initialize counter\n",
    "        fitness_cnt = 0\n",
    "\n",
    "        # For all pairs of queens\n",
    "        for i in range(len(state) - 1):\n",
    "            for j in range(i + 1, len(state)):\n",
    "\n",
    "                # Check for horizontal, diagonal-up and diagonal-down attacks\n",
    "                if (state[j] != state[i]) \\\n",
    "                    and (state[j] != state[i] + (j - i)) \\\n",
    "                    and (state[j] != state[i] - (j - i)):\n",
    "\n",
    "                   # If no attacks, then increment counter\n",
    "                   fitness_cnt += 1\n",
    "\n",
    "        return fitness_cnt\n",
    "\n",
    "# Initialize custom fitness function object\n",
    "fitness_cust = mlrose.CustomFitness(queens_max)"
   ]
  },
  {
   "cell_type": "code",
   "execution_count": null,
   "metadata": {},
   "outputs": [],
   "source": []
  }
 ],
 "metadata": {
  "kernelspec": {
   "display_name": "ml",
   "language": "python",
   "name": "python3"
  },
  "language_info": {
   "codemirror_mode": {
    "name": "ipython",
    "version": 3
   },
   "file_extension": ".py",
   "mimetype": "text/x-python",
   "name": "python",
   "nbconvert_exporter": "python",
   "pygments_lexer": "ipython3",
   "version": "3.11.6"
  }
 },
 "nbformat": 4,
 "nbformat_minor": 2
}
