{
 "cells": [
  {
   "cell_type": "code",
   "execution_count": 83,
   "metadata": {},
   "outputs": [],
   "source": [
    "#Import Libraries\n",
    "import pandas as pd\n",
    "import numpy as np\n",
    "import matplotlib.pyplot as plt\n",
    "from sklearn.model_selection import cross_validate, train_test_split, GridSearchCV\n",
    "from yellowbrick.classifier import ClassificationReport\n",
    "\n",
    "from sklearn.model_selection import train_test_split\n",
    "from sklearn.tree import DecisionTreeClassifier\n",
    "from yellowbrick.classifier import ConfusionMatrix, ClassificationReport\n",
    "from sklearn.model_selection import learning_curve\n",
    "from yellowbrick.model_selection import LearningCurve\n",
    "from sklearn.neural_network import MLPClassifier\n",
    "from sklearn.neighbors import KNeighborsClassifier\n",
    "from sklearn.model_selection import StratifiedKFold\n",
    "from sklearn.svm import SVC\n",
    "from sklearn.ensemble import AdaBoostClassifier\n",
    "from sklearn.preprocessing import StandardScaler\n",
    "from sklearn.model_selection import cross_val_score\n",
    "import mlrose_hiive \n",
    "from sklearn.preprocessing import MinMaxScaler, OneHotEncoder\n",
    "import time\n"
   ]
  },
  {
   "cell_type": "code",
   "execution_count": 84,
   "metadata": {},
   "outputs": [
    {
     "data": {
      "text/plain": [
       "matrix([[0., 1.],\n",
       "        [1., 0.],\n",
       "        [0., 1.],\n",
       "        ...,\n",
       "        [0., 1.],\n",
       "        [0., 1.],\n",
       "        [0., 1.]])"
      ]
     },
     "execution_count": 84,
     "metadata": {},
     "output_type": "execute_result"
    }
   ],
   "source": [
    "#Import league_games.csv into a dataframe\n",
    "league_games = pd.read_csv(r'C:\\\\Users\\\\Jampy\\\\Machine Learning\\\\league_games.csv',delimiter=';')\n",
    "\n",
    "# isolate columns that are needed gamelength, t1_ban1\n",
    "\n",
    "\n",
    "league_games_y = league_games[['t1_result']]\n",
    "league_games_y.head(40)\n",
    "\n",
    "#league_games print column names\n",
    "#print every column name without the ...\n",
    "#make a list of ['t1p1_kills',...'t2p5_kills']\n",
    "column_list = ['t1_firstblood', 't1_firstdragon', 't1_dragons','t2_firstblood', 't2_firstdragon', 't2_dragons']\n",
    "for i in range(1,6):\n",
    "    for j in range(1,3):\n",
    "        column_list.append('t'+str(j)+'p'+str(i)+'_kills')\n",
    "        column_list.append('t'+str(j)+'p'+str(i)+'_deaths')\n",
    "        column_list.append('t'+str(j)+'p'+str(i)+'_assists')\n",
    "league_games_x = league_games[column_list]\n",
    "\n",
    "#replace Nan with row mean\n",
    "league_games_x = league_games_x.fillna(league_games_x.mean())\n",
    "\n",
    "#ravel the y\n",
    "league_games_y = league_games_y.values.ravel()\n",
    "\n",
    "\n",
    "\n",
    "#split the data into training and testing\n",
    "league_games_X_train, league_games_X_test, league_games_y_train, league_games_y_test = train_test_split(league_games_x, league_games_y, test_size=0.2, random_state=42, shuffle=True)\n",
    "\n",
    "league_games_X_train = MinMaxScaler().fit_transform(league_games_X_train)\n",
    "\n",
    "league_games_X_train = np.array(league_games_X_train)\n",
    "\n",
    "league_games_y = one_hot.fit_transform(league_games_y.reshape(-1, 1)).todense()\n",
    "\n",
    "league_games_y"
   ]
  },
  {
   "cell_type": "code",
   "execution_count": 53,
   "metadata": {},
   "outputs": [],
   "source": [
    "#League of Legends Neural Network\n",
    "param_grid = {\n",
    "    'hidden_layer_sizes': [(50, 50), (100, 100), (50, 100, 50)],\n",
    "    'activation': ['relu', 'tanh'],\n",
    "    'alpha': [0.0001, 0.001, 0.01],\n",
    "}\n",
    "mlp = MLPClassifier(random_state=42)\n",
    "mlp.feature_names = league_games_x.columns \n",
    "grid_search = GridSearchCV(mlp, param_grid, cv=3)\n",
    "grid_search.fit(league_games_X_train, league_games_y_train)\n",
    "best_model = grid_search.best_estimator_\n",
    "best_params = grid_search.best_params_"
   ]
  },
  {
   "cell_type": "code",
   "execution_count": 110,
   "metadata": {},
   "outputs": [
    {
     "data": {
      "text/html": [
       "<div>\n",
       "<style scoped>\n",
       "    .dataframe tbody tr th:only-of-type {\n",
       "        vertical-align: middle;\n",
       "    }\n",
       "\n",
       "    .dataframe tbody tr th {\n",
       "        vertical-align: top;\n",
       "    }\n",
       "\n",
       "    .dataframe thead th {\n",
       "        text-align: right;\n",
       "    }\n",
       "</style>\n",
       "<table border=\"1\" class=\"dataframe\">\n",
       "  <thead>\n",
       "    <tr style=\"text-align: right;\">\n",
       "      <th></th>\n",
       "      <th>Algorithm</th>\n",
       "      <th>Time</th>\n",
       "    </tr>\n",
       "  </thead>\n",
       "  <tbody>\n",
       "    <tr>\n",
       "      <th>0</th>\n",
       "      <td>RHC</td>\n",
       "      <td>3.818</td>\n",
       "    </tr>\n",
       "    <tr>\n",
       "      <th>1</th>\n",
       "      <td>SA</td>\n",
       "      <td>4.729</td>\n",
       "    </tr>\n",
       "    <tr>\n",
       "      <th>2</th>\n",
       "      <td>GA</td>\n",
       "      <td>499.896</td>\n",
       "    </tr>\n",
       "  </tbody>\n",
       "</table>\n",
       "</div>"
      ],
      "text/plain": [
       "  Algorithm     Time\n",
       "0       RHC    3.818\n",
       "1        SA    4.729\n",
       "2        GA  499.896"
      ]
     },
     "execution_count": 110,
     "metadata": {},
     "output_type": "execute_result"
    }
   ],
   "source": [
    "#Hill Climbing\n",
    "HC_NN = mlrose_hiive.NeuralNetwork(\n",
    "                                    hidden_nodes =best_params['hidden_layer_sizes'] , \n",
    "                                    activation =best_params['activation'],\n",
    "                                    algorithm ='random_hill_climb', \n",
    "                                    max_iters = 300,\n",
    "                                    bias = True, \n",
    "                                    is_classifier = True, \n",
    "                                    learning_rate = best_params['alpha'],\n",
    "                                    early_stopping = True, \n",
    "                                    clip_max = 5,\n",
    "                                    curve=True,\n",
    "                                    max_attempts = 100,\n",
    "                                    random_state = 42)\n",
    "start = time.time()\n",
    "HC_NN.fit(league_games_X_train, league_games_y_train)\n",
    "end = time.time()\n",
    "HC_time = end - start\n",
    "\n",
    "#Simulated Annealing\n",
    "SA_NN = mlrose_hiive.NeuralNetwork(\n",
    "                                    hidden_nodes =best_params['hidden_layer_sizes'] , \n",
    "                                    activation =best_params['activation'],\n",
    "                                    algorithm ='simulated_annealing', \n",
    "                                    max_iters = 300,\n",
    "                                    bias = True, \n",
    "                                    is_classifier = True, \n",
    "                                    learning_rate = best_params['alpha'],\n",
    "                                    early_stopping = True, \n",
    "                                    clip_max = 5,\n",
    "                                    curve=True,\n",
    "                                    max_attempts = 100,\n",
    "                                    random_state = 42)\n",
    "start = time.time()\n",
    "SA_NN.fit(league_games_X_train, league_games_y_train)\n",
    "end = time.time()\n",
    "SA_time = end - start\n",
    "\n",
    "#Genetic Algorithm\n",
    "GA_NN = mlrose_hiive.NeuralNetwork(\n",
    "                                    hidden_nodes =best_params['hidden_layer_sizes'] , \n",
    "                                    activation =best_params['activation'],\n",
    "                                    algorithm ='genetic_alg', \n",
    "                                    max_iters = 300,\n",
    "                                    bias = True, \n",
    "                                    is_classifier = True, \n",
    "                                    learning_rate = best_params['alpha'],\n",
    "                                    early_stopping = True, \n",
    "                                    clip_max = 5,\n",
    "                                    curve=True,\n",
    "                                    max_attempts = 100,\n",
    "                                    random_state = 42)\n",
    "start = time.time()\n",
    "GA_NN.fit(league_games_X_train, league_games_y_train)\n",
    "end = time.time()\n",
    "GA_time = end - start   \n",
    "\n",
    "times = [('RHC', round(HC_time, 3)), \n",
    "        ('SA', round(SA_time, 3)), \n",
    "        ('GA', round(GA_time, 3))] \n",
    "\n",
    "df = pd.DataFrame(times, columns =['Algorithm', 'Time']) \n",
    "\n",
    "\n",
    "df"
   ]
  },
  {
   "cell_type": "code",
   "execution_count": 114,
   "metadata": {},
   "outputs": [
    {
     "name": "stdout",
     "output_type": "stream",
     "text": [
      "(300,)\n"
     ]
    }
   ],
   "source": [
    "#Backpropagation\n",
    "GD_NN = mlrose_hiive.NeuralNetwork(\n",
    "                                    hidden_nodes =best_params['hidden_layer_sizes'] , \n",
    "                                    activation =best_params['activation'],\n",
    "                                    algorithm ='gradient_descent' ,\n",
    "                                    max_iters = 300,\n",
    "                                    bias = True, \n",
    "                                    is_classifier = True, \n",
    "                                    learning_rate = best_params['alpha'],\n",
    "                                    early_stopping = True, \n",
    "                                    clip_max = 5,\n",
    "                                    curve=True,\n",
    "                                    max_attempts = 100,\n",
    "                                    random_state = 42)\n",
    "start = time.time()\n",
    "GD_NN.fit(league_games_X_train, league_games_y_train)\n",
    "end = time.time()\n",
    "GD_time = end - start   \n",
    "\n",
    "print(GD_NN.fitness_curve.shape)"
   ]
  },
  {
   "cell_type": "code",
   "execution_count": 86,
   "metadata": {},
   "outputs": [
    {
     "data": {
      "text/html": [
       "<div>\n",
       "<style scoped>\n",
       "    .dataframe tbody tr th:only-of-type {\n",
       "        vertical-align: middle;\n",
       "    }\n",
       "\n",
       "    .dataframe tbody tr th {\n",
       "        vertical-align: top;\n",
       "    }\n",
       "\n",
       "    .dataframe thead th {\n",
       "        text-align: right;\n",
       "    }\n",
       "</style>\n",
       "<table border=\"1\" class=\"dataframe\">\n",
       "  <thead>\n",
       "    <tr style=\"text-align: right;\">\n",
       "      <th></th>\n",
       "      <th>Algorithm</th>\n",
       "      <th>Time</th>\n",
       "    </tr>\n",
       "  </thead>\n",
       "  <tbody>\n",
       "    <tr>\n",
       "      <th>0</th>\n",
       "      <td>RHC</td>\n",
       "      <td>3.827</td>\n",
       "    </tr>\n",
       "    <tr>\n",
       "      <th>1</th>\n",
       "      <td>SA</td>\n",
       "      <td>5.048</td>\n",
       "    </tr>\n",
       "    <tr>\n",
       "      <th>2</th>\n",
       "      <td>GA</td>\n",
       "      <td>517.016</td>\n",
       "    </tr>\n",
       "  </tbody>\n",
       "</table>\n",
       "</div>"
      ],
      "text/plain": [
       "  Algorithm     Time\n",
       "0       RHC    3.827\n",
       "1        SA    5.048\n",
       "2        GA  517.016"
      ]
     },
     "execution_count": 86,
     "metadata": {},
     "output_type": "execute_result"
    }
   ],
   "source": [
    "times = [('RHC', round(HC_time, 3)), \n",
    "        ('SA', round(SA_time, 3)), \n",
    "        ('GA', round(GA_time, 3))] \n",
    "\n",
    "df = pd.DataFrame(times, columns =['Algorithm', 'Time']) \n",
    "\n",
    "\n",
    "df"
   ]
  },
  {
   "cell_type": "code",
   "execution_count": 116,
   "metadata": {},
   "outputs": [
    {
     "name": "stdout",
     "output_type": "stream",
     "text": [
      "(300, 2)\n"
     ]
    },
    {
     "data": {
      "image/png": "[encoded data removed]",
      "text/plain": [
       "<Figure size 800x550 with 1 Axes>"
      ]
     },
     "metadata": {},
     "output_type": "display_data"
    }
   ],
   "source": [
    "plt.plot(HC_NN.fitness_curve[:,0], label='RHC', color='red')\n",
    "plt.plot(SA_NN.fitness_curve[:,0], label='SA', color='blue')\n",
    "plt.plot(GA_NN.fitness_curve[:,0], label='GA', color='green')\n",
    "#plt.plot(GD_NN.fitness_curve, label='GD', color='orange')\n",
    "plt.plot\n",
    "plt.xlabel(\"Iterations\")\n",
    "plt.ylabel(\"Loss\")\n",
    "plt.legend(loc=\"center left\",bbox_to_anchor=(1, 0.5))\n",
    "plt.title(\"Neural Network Fitness Curve\")\n",
    "\n",
    "print(HC_NN.fitness_curve.shape)"
   ]
  },
  {
   "cell_type": "code",
   "execution_count": 154,
   "metadata": {},
   "outputs": [
    {
     "data": {
      "text/html": [
       "<div>\n",
       "<style scoped>\n",
       "    .dataframe tbody tr th:only-of-type {\n",
       "        vertical-align: middle;\n",
       "    }\n",
       "\n",
       "    .dataframe tbody tr th {\n",
       "        vertical-align: top;\n",
       "    }\n",
       "\n",
       "    .dataframe thead th {\n",
       "        text-align: right;\n",
       "    }\n",
       "</style>\n",
       "<table border=\"1\" class=\"dataframe\">\n",
       "  <thead>\n",
       "    <tr style=\"text-align: right;\">\n",
       "      <th></th>\n",
       "      <th>Algorithm</th>\n",
       "      <th>Time</th>\n",
       "      <th>Function Evaluations</th>\n",
       "      <th>Accuracy</th>\n",
       "    </tr>\n",
       "  </thead>\n",
       "  <tbody>\n",
       "    <tr>\n",
       "      <th>0</th>\n",
       "      <td>Original</td>\n",
       "      <td>1.389</td>\n",
       "      <td>837.0</td>\n",
       "      <td>0.9870</td>\n",
       "    </tr>\n",
       "    <tr>\n",
       "      <th>1</th>\n",
       "      <td>Hill Climbing</td>\n",
       "      <td>3.818</td>\n",
       "      <td>460.0</td>\n",
       "      <td>0.9238</td>\n",
       "    </tr>\n",
       "    <tr>\n",
       "      <th>2</th>\n",
       "      <td>Simulated Annealing</td>\n",
       "      <td>4.729</td>\n",
       "      <td>601.0</td>\n",
       "      <td>0.9480</td>\n",
       "    </tr>\n",
       "    <tr>\n",
       "      <th>3</th>\n",
       "      <td>Genetic Algorithm</td>\n",
       "      <td>499.896</td>\n",
       "      <td>56491.0</td>\n",
       "      <td>0.9890</td>\n",
       "    </tr>\n",
       "  </tbody>\n",
       "</table>\n",
       "</div>"
      ],
      "text/plain": [
       "             Algorithm     Time  Function Evaluations  Accuracy\n",
       "0             Original    1.389                 837.0    0.9870\n",
       "1        Hill Climbing    3.818                 460.0    0.9238\n",
       "2  Simulated Annealing    4.729                 601.0    0.9480\n",
       "3    Genetic Algorithm  499.896               56491.0    0.9890"
      ]
     },
     "execution_count": 154,
     "metadata": {},
     "output_type": "execute_result"
    },
    {
     "ename": "",
     "evalue": "",
     "output_type": "error",
     "traceback": [
      "\u001b[1;31mThe Kernel crashed while executing code in the the current cell or a previous cell. Please review the code in the cell(s) to identify a possible cause of the failure. Click <a href='https://aka.ms/vscodeJupyterKernelCrash'>here</a> for more info. View Jupyter <a href='command:jupyter.viewOutput'>log</a> for further details."
     ]
    }
   ],
   "source": [
    "HC_fevals = HC_NN.fitness_curve[:,1][-1]\n",
    "SC_fevals = SA_NN.fitness_curve[:,1][-1]\n",
    "GA_fevals = GA_NN.fitness_curve[:,1][-1]\n",
    "\n",
    "\n",
    "times = [round(O_time,3),round(HC_time, 3),round(SA_time, 3),round(GA_time, 3)] \n",
    "\n",
    "Fevals = [O_fevals, HC_fevals, SC_fevals, GA_fevals,]\n",
    "\n",
    "algorithms = ['Original','Hill Climbing', 'Simulated Annealing', 'Genetic Algorithm', ]\n",
    "\n",
    "accruacy = [O_NN_fitness_curve[:,0][-1],HC_NN.fitness_curve[:,0][-1], SA_NN.fitness_curve[:,0][-1], GA_NN.fitness_curve[:,0][-1]]\n",
    "\n",
    "#combine all 3\n",
    "df = pd.DataFrame(list(zip(algorithms, times, Fevals,accruacy)), columns =['Algorithm', 'Time', 'Function Evaluations', 'Accuracy'])\n",
    "df"
   ]
  }
 ],
 "metadata": {
  "kernelspec": {
   "display_name": "ml",
   "language": "python",
   "name": "python3"
  },
  "language_info": {
   "codemirror_mode": {
    "name": "ipython",
    "version": 3
   },
   "file_extension": ".py",
   "mimetype": "text/x-python",
   "name": "python",
   "nbconvert_exporter": "python",
   "pygments_lexer": "ipython3",
   "version": "3.11.6"
  }
 },
 "nbformat": 4,
 "nbformat_minor": 2
}
